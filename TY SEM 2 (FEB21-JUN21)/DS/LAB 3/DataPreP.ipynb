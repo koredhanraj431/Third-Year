{
 "cells": [
  {
   "cell_type": "markdown",
   "metadata": {
    "id": "-TiOz5lQwYey"
   },
   "source": [
    "# Importing the libraries\n"
   ]
  },
  {
   "cell_type": "code",
   "execution_count": 1,
   "metadata": {
    "executionInfo": {
     "elapsed": 1045,
     "status": "ok",
     "timestamp": 1614144478146,
     "user": {
      "displayName": "ashwini shingare",
      "photoUrl": "https://lh3.googleusercontent.com/a-/AOh14GgNwQj4XEuSINAvOfIqlFogeh_sR0TCOfvXfPxK=s64",
      "userId": "08067957730134572102"
     },
     "user_tz": -330
    },
    "id": "GRZGTvCiwZlx"
   },
   "outputs": [],
   "source": [
    "import numpy as np\n",
    "import pandas as pd\n",
    "import matplotlib.pyplot as plt"
   ]
  },
  {
   "cell_type": "markdown",
   "metadata": {
    "id": "vpEPa2rswoLT"
   },
   "source": [
    "# Importing the dataset\n"
   ]
  },
  {
   "cell_type": "code",
   "execution_count": 2,
   "metadata": {
    "colab": {
     "base_uri": "https://localhost:8080/",
     "height": 196
    },
    "executionInfo": {
     "elapsed": 1288,
     "status": "ok",
     "timestamp": 1614144482540,
     "user": {
      "displayName": "ashwini shingare",
      "photoUrl": "https://lh3.googleusercontent.com/a-/AOh14GgNwQj4XEuSINAvOfIqlFogeh_sR0TCOfvXfPxK=s64",
      "userId": "08067957730134572102"
     },
     "user_tz": -330
    },
    "id": "hKvH-rAfwtkV",
    "outputId": "d2f3eee4-b559-4fdc-e30b-f7623d9c62ee"
   },
   "outputs": [
    {
     "data": {
      "text/html": [
       "<div>\n",
       "<style scoped>\n",
       "    .dataframe tbody tr th:only-of-type {\n",
       "        vertical-align: middle;\n",
       "    }\n",
       "\n",
       "    .dataframe tbody tr th {\n",
       "        vertical-align: top;\n",
       "    }\n",
       "\n",
       "    .dataframe thead th {\n",
       "        text-align: right;\n",
       "    }\n",
       "</style>\n",
       "<table border=\"1\" class=\"dataframe\">\n",
       "  <thead>\n",
       "    <tr style=\"text-align: right;\">\n",
       "      <th></th>\n",
       "      <th>Country</th>\n",
       "      <th>Age</th>\n",
       "      <th>Salary</th>\n",
       "      <th>Purchased</th>\n",
       "    </tr>\n",
       "  </thead>\n",
       "  <tbody>\n",
       "    <tr>\n",
       "      <th>0</th>\n",
       "      <td>France</td>\n",
       "      <td>44.0</td>\n",
       "      <td>72000.0</td>\n",
       "      <td>No</td>\n",
       "    </tr>\n",
       "    <tr>\n",
       "      <th>1</th>\n",
       "      <td>Spain</td>\n",
       "      <td>27.0</td>\n",
       "      <td>48000.0</td>\n",
       "      <td>Yes</td>\n",
       "    </tr>\n",
       "    <tr>\n",
       "      <th>2</th>\n",
       "      <td>Germany</td>\n",
       "      <td>30.0</td>\n",
       "      <td>54000.0</td>\n",
       "      <td>No</td>\n",
       "    </tr>\n",
       "    <tr>\n",
       "      <th>3</th>\n",
       "      <td>Spain</td>\n",
       "      <td>38.0</td>\n",
       "      <td>61000.0</td>\n",
       "      <td>No</td>\n",
       "    </tr>\n",
       "    <tr>\n",
       "      <th>4</th>\n",
       "      <td>Germany</td>\n",
       "      <td>40.0</td>\n",
       "      <td>NaN</td>\n",
       "      <td>Yes</td>\n",
       "    </tr>\n",
       "  </tbody>\n",
       "</table>\n",
       "</div>"
      ],
      "text/plain": [
       "   Country   Age   Salary Purchased\n",
       "0   France  44.0  72000.0        No\n",
       "1    Spain  27.0  48000.0       Yes\n",
       "2  Germany  30.0  54000.0        No\n",
       "3    Spain  38.0  61000.0        No\n",
       "4  Germany  40.0      NaN       Yes"
      ]
     },
     "execution_count": 2,
     "metadata": {
      "tags": []
     },
     "output_type": "execute_result"
    }
   ],
   "source": [
    "dataset = pd.read_csv('Data.csv')\n",
    "dataset.head()"
   ]
  },
  {
   "cell_type": "code",
   "execution_count": 3,
   "metadata": {
    "colab": {
     "base_uri": "https://localhost:8080/"
    },
    "executionInfo": {
     "elapsed": 1033,
     "status": "ok",
     "timestamp": 1614144493840,
     "user": {
      "displayName": "ashwini shingare",
      "photoUrl": "https://lh3.googleusercontent.com/a-/AOh14GgNwQj4XEuSINAvOfIqlFogeh_sR0TCOfvXfPxK=s64",
      "userId": "08067957730134572102"
     },
     "user_tz": -330
    },
    "id": "LMVVyZ_PBWw_",
    "outputId": "7e41ef32-09f1-41af-add4-e957c07c7cde"
   },
   "outputs": [
    {
     "name": "stdout",
     "output_type": "stream",
     "text": [
      "   Country   Age   Salary\n",
      "0   France  44.0  72000.0\n",
      "1    Spain  27.0  48000.0\n",
      "2  Germany  30.0  54000.0\n",
      "3    Spain  38.0  61000.0\n",
      "4  Germany  40.0      NaN\n",
      "5   France  35.0  58000.0\n",
      "6    Spain   NaN  52000.0\n",
      "7   France  48.0  79000.0\n",
      "8  Germany  50.0  83000.0\n",
      "9   France  37.0  67000.0\n"
     ]
    }
   ],
   "source": [
    "\n",
    "df = dataset.iloc[:, :-1]\n",
    "print(df)"
   ]
  },
  {
   "cell_type": "markdown",
   "metadata": {
    "id": "6I_iy65iG81S"
   },
   "source": [
    "Duplicate entries\n",
    "\n"
   ]
  },
  {
   "cell_type": "code",
   "execution_count": null,
   "metadata": {
    "colab": {
     "base_uri": "https://localhost:8080/",
     "height": 50
    },
    "executionInfo": {
     "elapsed": 1514,
     "status": "ok",
     "timestamp": 1603420375372,
     "user": {
      "displayName": "ashwini shingare",
      "photoUrl": "https://lh3.googleusercontent.com/a-/AOh14GgNwQj4XEuSINAvOfIqlFogeh_sR0TCOfvXfPxK=s64",
      "userId": "08067957730134572102"
     },
     "user_tz": -330
    },
    "id": "9EBbpjaeHBpX",
    "outputId": "43910881-3068-4e35-b555-4b91da0ef633"
   },
   "outputs": [
    {
     "name": "stdout",
     "output_type": "stream",
     "text": [
      "number 0\n",
      "(array([], dtype=int64),)\n"
     ]
    }
   ],
   "source": [
    "print('number',df.duplicated().sum())\n",
    "print(np.where(df.duplicated()==True))"
   ]
  },
  {
   "cell_type": "markdown",
   "metadata": {
    "id": "isYxCGc1KSjd"
   },
   "source": [
    "df.drop_duplicates(subset=None, keep=’first’, inplace=False)\n",
    "subset: Subset takes a column or list of column label. It’s default value is none.\n",
    "After passing columns, it will consider them only for duplicates\n",
    "\n",
    "keep: keep is to control how to consider duplicate value. It has only three distinct value and default is ‘first’.\n",
    "If ‘first’, it considers first value as unique and rest of the same values as duplicate.\n",
    "If ‘last’, it considers last value as unique and rest of the same values as duplicate.\n",
    "If False, it consider all of the same values as duplicates\n",
    "\n",
    "data.drop_duplicates(subset =\"Col Name\", \n",
    "                     keep = False, inplace = True)"
   ]
  },
  {
   "cell_type": "markdown",
   "metadata": {
    "id": "1lIR_NbQxBh4"
   },
   "source": [
    "# Taking care of missing data\n"
   ]
  },
  {
   "cell_type": "code",
   "execution_count": 4,
   "metadata": {
    "colab": {
     "base_uri": "https://localhost:8080/",
     "height": 345
    },
    "executionInfo": {
     "elapsed": 1124,
     "status": "ok",
     "timestamp": 1614144564833,
     "user": {
      "displayName": "ashwini shingare",
      "photoUrl": "https://lh3.googleusercontent.com/a-/AOh14GgNwQj4XEuSINAvOfIqlFogeh_sR0TCOfvXfPxK=s64",
      "userId": "08067957730134572102"
     },
     "user_tz": -330
    },
    "id": "pDC305EVxSsd",
    "outputId": "75f4315b-1256-4fcb-a462-00d094683443"
   },
   "outputs": [
    {
     "data": {
      "text/html": [
       "<div>\n",
       "<style scoped>\n",
       "    .dataframe tbody tr th:only-of-type {\n",
       "        vertical-align: middle;\n",
       "    }\n",
       "\n",
       "    .dataframe tbody tr th {\n",
       "        vertical-align: top;\n",
       "    }\n",
       "\n",
       "    .dataframe thead th {\n",
       "        text-align: right;\n",
       "    }\n",
       "</style>\n",
       "<table border=\"1\" class=\"dataframe\">\n",
       "  <thead>\n",
       "    <tr style=\"text-align: right;\">\n",
       "      <th></th>\n",
       "      <th>Country</th>\n",
       "      <th>Age</th>\n",
       "      <th>Salary</th>\n",
       "    </tr>\n",
       "  </thead>\n",
       "  <tbody>\n",
       "    <tr>\n",
       "      <th>0</th>\n",
       "      <td>False</td>\n",
       "      <td>False</td>\n",
       "      <td>False</td>\n",
       "    </tr>\n",
       "    <tr>\n",
       "      <th>1</th>\n",
       "      <td>False</td>\n",
       "      <td>False</td>\n",
       "      <td>False</td>\n",
       "    </tr>\n",
       "    <tr>\n",
       "      <th>2</th>\n",
       "      <td>False</td>\n",
       "      <td>False</td>\n",
       "      <td>False</td>\n",
       "    </tr>\n",
       "    <tr>\n",
       "      <th>3</th>\n",
       "      <td>False</td>\n",
       "      <td>False</td>\n",
       "      <td>False</td>\n",
       "    </tr>\n",
       "    <tr>\n",
       "      <th>4</th>\n",
       "      <td>False</td>\n",
       "      <td>False</td>\n",
       "      <td>True</td>\n",
       "    </tr>\n",
       "    <tr>\n",
       "      <th>5</th>\n",
       "      <td>False</td>\n",
       "      <td>False</td>\n",
       "      <td>False</td>\n",
       "    </tr>\n",
       "    <tr>\n",
       "      <th>6</th>\n",
       "      <td>False</td>\n",
       "      <td>True</td>\n",
       "      <td>False</td>\n",
       "    </tr>\n",
       "    <tr>\n",
       "      <th>7</th>\n",
       "      <td>False</td>\n",
       "      <td>False</td>\n",
       "      <td>False</td>\n",
       "    </tr>\n",
       "    <tr>\n",
       "      <th>8</th>\n",
       "      <td>False</td>\n",
       "      <td>False</td>\n",
       "      <td>False</td>\n",
       "    </tr>\n",
       "    <tr>\n",
       "      <th>9</th>\n",
       "      <td>False</td>\n",
       "      <td>False</td>\n",
       "      <td>False</td>\n",
       "    </tr>\n",
       "  </tbody>\n",
       "</table>\n",
       "</div>"
      ],
      "text/plain": [
       "   Country    Age  Salary\n",
       "0    False  False   False\n",
       "1    False  False   False\n",
       "2    False  False   False\n",
       "3    False  False   False\n",
       "4    False  False    True\n",
       "5    False  False   False\n",
       "6    False   True   False\n",
       "7    False  False   False\n",
       "8    False  False   False\n",
       "9    False  False   False"
      ]
     },
     "execution_count": 4,
     "metadata": {
      "tags": []
     },
     "output_type": "execute_result"
    }
   ],
   "source": [
    "df.isna()"
   ]
  },
  {
   "cell_type": "code",
   "execution_count": 5,
   "metadata": {
    "colab": {
     "base_uri": "https://localhost:8080/"
    },
    "executionInfo": {
     "elapsed": 978,
     "status": "ok",
     "timestamp": 1614144600716,
     "user": {
      "displayName": "ashwini shingare",
      "photoUrl": "https://lh3.googleusercontent.com/a-/AOh14GgNwQj4XEuSINAvOfIqlFogeh_sR0TCOfvXfPxK=s64",
      "userId": "08067957730134572102"
     },
     "user_tz": -330
    },
    "id": "ai0WA4pNzGsX",
    "outputId": "dc6cf9ec-0745-4b3e-d1d6-1dd8afa13064"
   },
   "outputs": [
    {
     "data": {
      "text/plain": [
       "Country    0\n",
       "Age        1\n",
       "Salary     1\n",
       "dtype: int64"
      ]
     },
     "execution_count": 5,
     "metadata": {
      "tags": []
     },
     "output_type": "execute_result"
    }
   ],
   "source": [
    "df.isna().sum()"
   ]
  },
  {
   "cell_type": "code",
   "execution_count": 6,
   "metadata": {
    "colab": {
     "base_uri": "https://localhost:8080/"
    },
    "executionInfo": {
     "elapsed": 1185,
     "status": "ok",
     "timestamp": 1614144609676,
     "user": {
      "displayName": "ashwini shingare",
      "photoUrl": "https://lh3.googleusercontent.com/a-/AOh14GgNwQj4XEuSINAvOfIqlFogeh_sR0TCOfvXfPxK=s64",
      "userId": "08067957730134572102"
     },
     "user_tz": -330
    },
    "id": "3CNVrTm8zMD_",
    "outputId": "edfa0b9a-ff37-434f-83ca-e332c671bb72"
   },
   "outputs": [
    {
     "data": {
      "text/plain": [
       "Country    0\n",
       "Age        0\n",
       "Salary     0\n",
       "dtype: int64"
      ]
     },
     "execution_count": 6,
     "metadata": {
      "tags": []
     },
     "output_type": "execute_result"
    }
   ],
   "source": [
    "#Drop rows with missing values\n",
    "dropdf=df.dropna()\n",
    "dropdf.isna().sum()\n"
   ]
  },
  {
   "cell_type": "code",
   "execution_count": 7,
   "metadata": {
    "colab": {
     "base_uri": "https://localhost:8080/"
    },
    "executionInfo": {
     "elapsed": 1126,
     "status": "ok",
     "timestamp": 1614144617977,
     "user": {
      "displayName": "ashwini shingare",
      "photoUrl": "https://lh3.googleusercontent.com/a-/AOh14GgNwQj4XEuSINAvOfIqlFogeh_sR0TCOfvXfPxK=s64",
      "userId": "08067957730134572102"
     },
     "user_tz": -330
    },
    "id": "QILwWFQez9FI",
    "outputId": "f4b56d69-a9c0-4e13-b88a-ec2f246465b6"
   },
   "outputs": [
    {
     "name": "stdout",
     "output_type": "stream",
     "text": [
      "(10, 3)\n",
      "(8, 3)\n"
     ]
    }
   ],
   "source": [
    "print(df.shape)\n",
    "print(dropdf.shape)"
   ]
  },
  {
   "cell_type": "code",
   "execution_count": 8,
   "metadata": {
    "colab": {
     "base_uri": "https://localhost:8080/"
    },
    "executionInfo": {
     "elapsed": 1036,
     "status": "ok",
     "timestamp": 1614144698118,
     "user": {
      "displayName": "ashwini shingare",
      "photoUrl": "https://lh3.googleusercontent.com/a-/AOh14GgNwQj4XEuSINAvOfIqlFogeh_sR0TCOfvXfPxK=s64",
      "userId": "08067957730134572102"
     },
     "user_tz": -330
    },
    "id": "lv0Vl5C9hMvz",
    "outputId": "a32b3daa-750c-4256-be82-3f37f6bc8b05"
   },
   "outputs": [
    {
     "name": "stdout",
     "output_type": "stream",
     "text": [
      "   Country   Age   Salary\n",
      "0   France  44.0  72000.0\n",
      "1    Spain  27.0  48000.0\n",
      "2  Germany  30.0  54000.0\n",
      "3    Spain  38.0  61000.0\n",
      "4  Germany  40.0      NaN\n",
      "5   France  35.0  58000.0\n",
      "6    Spain   NaN  52000.0\n",
      "7   France  48.0  79000.0\n",
      "8  Germany  50.0  83000.0\n",
      "9   France  37.0  67000.0\n"
     ]
    }
   ],
   "source": [
    "print(df)"
   ]
  },
  {
   "cell_type": "code",
   "execution_count": null,
   "metadata": {
    "colab": {
     "base_uri": "https://localhost:8080/",
     "height": 201
    },
    "executionInfo": {
     "elapsed": 2145,
     "status": "ok",
     "timestamp": 1603420425182,
     "user": {
      "displayName": "ashwini shingare",
      "photoUrl": "https://lh3.googleusercontent.com/a-/AOh14GgNwQj4XEuSINAvOfIqlFogeh_sR0TCOfvXfPxK=s64",
      "userId": "08067957730134572102"
     },
     "user_tz": -330
    },
    "id": "p617uGrGz_tG",
    "outputId": "be4c6d9e-5548-4691-e236-3246bd15ddc4"
   },
   "outputs": [
    {
     "name": "stdout",
     "output_type": "stream",
     "text": [
      "   Country        Age        Salary\n",
      "0   France  44.000000  72000.000000\n",
      "1    Spain  27.000000  48000.000000\n",
      "2  Germany  30.000000  54000.000000\n",
      "3    Spain  38.000000  61000.000000\n",
      "4  Germany  40.000000  63777.777778\n",
      "5   France  35.000000  58000.000000\n",
      "6    Spain  38.777778  52000.000000\n",
      "7   France  48.000000  79000.000000\n",
      "8  Germany  50.000000  83000.000000\n",
      "9   France  37.000000  67000.000000\n"
     ]
    }
   ],
   "source": [
    "#fill in missing values with mean\n",
    "from sklearn.impute import SimpleImputer\n",
    "imputer = SimpleImputer(missing_values=np.nan, strategy='mean')\n",
    "imputer.fit(df.iloc[:, 1:3])\n",
    "df.iloc[:, 1:3] = imputer.transform(df.iloc[:, 1:3])\n",
    "print(df)\n"
   ]
  },
  {
   "cell_type": "markdown",
   "metadata": {
    "id": "2ZdPGNlF2s-i"
   },
   "source": [
    "# Encoding categorical data\n",
    "Encoding the Independent Variable\n"
   ]
  },
  {
   "cell_type": "code",
   "execution_count": null,
   "metadata": {
    "colab": {
     "base_uri": "https://localhost:8080/",
     "height": 201
    },
    "executionInfo": {
     "elapsed": 1568,
     "status": "ok",
     "timestamp": 1603420458152,
     "user": {
      "displayName": "ashwini shingare",
      "photoUrl": "https://lh3.googleusercontent.com/a-/AOh14GgNwQj4XEuSINAvOfIqlFogeh_sR0TCOfvXfPxK=s64",
      "userId": "08067957730134572102"
     },
     "user_tz": -330
    },
    "id": "-qrB__pv2wLs",
    "outputId": "2e3fd4e1-f3f6-4e00-84b8-7cf3e36d8bed"
   },
   "outputs": [
    {
     "name": "stdout",
     "output_type": "stream",
     "text": [
      "   Country        Age        Salary\n",
      "0        0  44.000000  72000.000000\n",
      "1        2  27.000000  48000.000000\n",
      "2        1  30.000000  54000.000000\n",
      "3        2  38.000000  61000.000000\n",
      "4        1  40.000000  63777.777778\n",
      "5        0  35.000000  58000.000000\n",
      "6        2  38.777778  52000.000000\n",
      "7        0  48.000000  79000.000000\n",
      "8        1  50.000000  83000.000000\n",
      "9        0  37.000000  67000.000000\n"
     ]
    }
   ],
   "source": [
    "## Label Encoding\n",
    "from sklearn.preprocessing import LabelEncoder\n",
    "l1 = LabelEncoder()\n",
    "l1.fit(df['Country'])\n",
    "df.Country = l1.transform(df.Country)\n",
    "print(df)\n"
   ]
  },
  {
   "cell_type": "code",
   "execution_count": null,
   "metadata": {
    "colab": {
     "base_uri": "https://localhost:8080/",
     "height": 201
    },
    "executionInfo": {
     "elapsed": 1483,
     "status": "ok",
     "timestamp": 1603420469631,
     "user": {
      "displayName": "ashwini shingare",
      "photoUrl": "https://lh3.googleusercontent.com/a-/AOh14GgNwQj4XEuSINAvOfIqlFogeh_sR0TCOfvXfPxK=s64",
      "userId": "08067957730134572102"
     },
     "user_tz": -330
    },
    "id": "69vThA4j33da",
    "outputId": "32386689-03ff-4878-aea1-d0fb64380008"
   },
   "outputs": [
    {
     "name": "stdout",
     "output_type": "stream",
     "text": [
      "    Age   Salary  Country_France  Country_Germany  Country_Spain\n",
      "0  44.0  72000.0               1                0              0\n",
      "1  27.0  48000.0               0                0              1\n",
      "2  30.0  54000.0               0                1              0\n",
      "3  38.0  61000.0               0                0              1\n",
      "4  40.0      NaN               0                1              0\n",
      "5  35.0  58000.0               1                0              0\n",
      "6   NaN  52000.0               0                0              1\n",
      "7  48.0  79000.0               1                0              0\n",
      "8  50.0  83000.0               0                1              0\n",
      "9  37.0  67000.0               1                0              0\n"
     ]
    }
   ],
   "source": [
    "#One Hot Encoding\n",
    "#2 ways\n",
    "#1.DataFrame.get_dummies\n",
    "df = dataset.iloc[:, :-1]\n",
    "#print(df)\n",
    "ddf=pd.get_dummies(data=df)\n",
    "print(ddf)"
   ]
  },
  {
   "cell_type": "code",
   "execution_count": null,
   "metadata": {
    "colab": {
     "base_uri": "https://localhost:8080/",
     "height": 201
    },
    "executionInfo": {
     "elapsed": 1183,
     "status": "ok",
     "timestamp": 1603423061927,
     "user": {
      "displayName": "ashwini shingare",
      "photoUrl": "https://lh3.googleusercontent.com/a-/AOh14GgNwQj4XEuSINAvOfIqlFogeh_sR0TCOfvXfPxK=s64",
      "userId": "08067957730134572102"
     },
     "user_tz": -330
    },
    "id": "DJ0yOIhC74-e",
    "outputId": "dba51f48-ecbc-4f13-f502-02c0e8bc5751"
   },
   "outputs": [
    {
     "name": "stdout",
     "output_type": "stream",
     "text": [
      "     0    1    2     3        4\n",
      "0  1.0  0.0  0.0  44.0  72000.0\n",
      "1  0.0  0.0  1.0  27.0  48000.0\n",
      "2  0.0  1.0  0.0  30.0  54000.0\n",
      "3  0.0  0.0  1.0  38.0  61000.0\n",
      "4  0.0  1.0  0.0  40.0      NaN\n",
      "5  1.0  0.0  0.0  35.0  58000.0\n",
      "6  0.0  0.0  1.0   NaN  52000.0\n",
      "7  1.0  0.0  0.0  48.0  79000.0\n",
      "8  0.0  1.0  0.0  50.0  83000.0\n",
      "9  1.0  0.0  0.0  37.0  67000.0\n"
     ]
    }
   ],
   "source": [
    "#2Using OneHotEncoder from Sci-Kit Learn\n",
    "from sklearn.compose import ColumnTransformer\n",
    "from sklearn.preprocessing import OneHotEncoder\n",
    "\n",
    "df = dataset.iloc[:, :-1]\n",
    "\n",
    "ct = ColumnTransformer(transformers=[('encoder', OneHotEncoder(), [0])], remainder='passthrough')\n",
    "X = pd.DataFrame(ct.fit_transform(df))\n",
    "print(X)"
   ]
  },
  {
   "cell_type": "code",
   "execution_count": null,
   "metadata": {
    "id": "k1tnCOzG-8D7"
   },
   "outputs": [],
   "source": [
    "from sklearn.preprocessing import LabelBinarizer\n",
    "df = dataset.iloc[:, :-1]\n",
    "y =pd.DataFrame( LabelBinarizer().fit_transform(df.Country),)\n",
    "print(y)\n",
    "pd.concat([y,df.iloc[:,1:3]], axis=1)"
   ]
  },
  {
   "cell_type": "markdown",
   "metadata": {
    "id": "LpzAaXNlFGCu"
   },
   "source": [
    "Encoding the Dependent Variable"
   ]
  },
  {
   "cell_type": "code",
   "execution_count": null,
   "metadata": {
    "colab": {
     "base_uri": "https://localhost:8080/",
     "height": 50
    },
    "executionInfo": {
     "elapsed": 1140,
     "status": "ok",
     "timestamp": 1603423104160,
     "user": {
      "displayName": "ashwini shingare",
      "photoUrl": "https://lh3.googleusercontent.com/a-/AOh14GgNwQj4XEuSINAvOfIqlFogeh_sR0TCOfvXfPxK=s64",
      "userId": "08067957730134572102"
     },
     "user_tz": -330
    },
    "id": "dCFqkr0rFHEL",
    "outputId": "e142b3cf-8879-40b2-d177-2c2faf958af8"
   },
   "outputs": [
    {
     "name": "stdout",
     "output_type": "stream",
     "text": [
      "['No' 'Yes' 'No' 'No' 'Yes' 'Yes' 'No' 'Yes' 'No' 'Yes']\n",
      "[0 1 0 0 1 1 0 1 0 1]\n"
     ]
    }
   ],
   "source": [
    "from sklearn.preprocessing import LabelEncoder\n",
    "le = LabelEncoder()\n",
    "y = dataset.iloc[:, -1].values\n",
    "print(y)\n",
    "y = le.fit_transform(y)\n",
    "print(y)\n"
   ]
  },
  {
   "cell_type": "markdown",
   "metadata": {
    "id": "pgYXL110FVot"
   },
   "source": [
    "# Feature Scaling"
   ]
  },
  {
   "cell_type": "code",
   "execution_count": null,
   "metadata": {
    "colab": {
     "base_uri": "https://localhost:8080/",
     "height": 50
    },
    "executionInfo": {
     "elapsed": 1405,
     "status": "ok",
     "timestamp": 1603420517903,
     "user": {
      "displayName": "ashwini shingare",
      "photoUrl": "https://lh3.googleusercontent.com/a-/AOh14GgNwQj4XEuSINAvOfIqlFogeh_sR0TCOfvXfPxK=s64",
      "userId": "08067957730134572102"
     },
     "user_tz": -330
    },
    "id": "zCHjI3V_uPhz",
    "outputId": "b33bf36b-db07-42e6-8107-8106c28b639c"
   },
   "outputs": [
    {
     "name": "stdout",
     "output_type": "stream",
     "text": [
      "Sal range 48000.0 - 83000.0\n",
      "Age range 27.0 - 50.0\n"
     ]
    }
   ],
   "source": [
    "df = dataset.iloc[:, :-1]\n",
    "X = dataset.iloc[:, :-1].values\n",
    "print('Sal range',min(df.Salary),'-',max(df.Salary))\n",
    "print('Age range',min(df.Age),'-',max(df.Age))"
   ]
  },
  {
   "cell_type": "code",
   "execution_count": null,
   "metadata": {
    "colab": {
     "base_uri": "https://localhost:8080/",
     "height": 298
    },
    "executionInfo": {
     "elapsed": 2241,
     "status": "ok",
     "timestamp": 1603420522630,
     "user": {
      "displayName": "ashwini shingare",
      "photoUrl": "https://lh3.googleusercontent.com/a-/AOh14GgNwQj4XEuSINAvOfIqlFogeh_sR0TCOfvXfPxK=s64",
      "userId": "08067957730134572102"
     },
     "user_tz": -330
    },
    "id": "lhanmrSrvKGI",
    "outputId": "af876a60-564d-4e8b-f289-89597f7f35fd"
   },
   "outputs": [
    {
     "name": "stdout",
     "output_type": "stream",
     "text": [
      "[27.0 48000.0]\n",
      "[50.0 83000.0]\n"
     ]
    },
    {
     "data": {
      "image/png": "[encoded data removed]",
      "text/plain": [
       "<Figure size 432x288 with 1 Axes>"
      ]
     },
     "metadata": {
      "needs_background": "light",
      "tags": []
     },
     "output_type": "display_data"
    }
   ],
   "source": [
    "x1=X[1,1:3] #row 2\n",
    "x2=X[8,1:3] # row 9\n",
    "print(x1)\n",
    "print(x2)\n",
    "x=[x1[1],x2[1]]\n",
    "y=[x1[0],x2[0]]\n",
    "plt.scatter(x, y)\n",
    "plt.show()"
   ]
  },
  {
   "cell_type": "code",
   "execution_count": null,
   "metadata": {
    "colab": {
     "base_uri": "https://localhost:8080/",
     "height": 67
    },
    "executionInfo": {
     "elapsed": 1287,
     "status": "ok",
     "timestamp": 1603420531106,
     "user": {
      "displayName": "ashwini shingare",
      "photoUrl": "https://lh3.googleusercontent.com/a-/AOh14GgNwQj4XEuSINAvOfIqlFogeh_sR0TCOfvXfPxK=s64",
      "userId": "08067957730134572102"
     },
     "user_tz": -330
    },
    "id": "-Da7NPmrSyY1",
    "outputId": "5d3b982f-f150-4989-d741-1bef24f73f41"
   },
   "outputs": [
    {
     "name": "stdout",
     "output_type": "stream",
     "text": [
      "529.0\n",
      "1225000000.0\n",
      "35000.00755714204\n"
     ]
    }
   ],
   "source": [
    "Agediff=(x1[0]-x2[0])**2\n",
    "print(Agediff)\n",
    "Saldiff=(x1[1]-x2[1])**2\n",
    "print(Saldiff)\n",
    "e_dist=np.sqrt(Agediff+Saldiff)\n",
    "print(e_dist)"
   ]
  },
  {
   "cell_type": "markdown",
   "metadata": {
    "id": "BMa89Y6J1CyZ"
   },
   "source": [
    "Euclidean distance dominated by the salary if we do not apply feature scaling. The difference in Age contributes less to the overall difference\n",
    "2 methods \n",
    "Standardisation (Z-score normalization) and Normalisation"
   ]
  },
  {
   "cell_type": "code",
   "execution_count": null,
   "metadata": {
    "colab": {
     "base_uri": "https://localhost:8080/",
     "height": 184
    },
    "executionInfo": {
     "elapsed": 1345,
     "status": "ok",
     "timestamp": 1603420540022,
     "user": {
      "displayName": "ashwini shingare",
      "photoUrl": "https://lh3.googleusercontent.com/a-/AOh14GgNwQj4XEuSINAvOfIqlFogeh_sR0TCOfvXfPxK=s64",
      "userId": "08067957730134572102"
     },
     "user_tz": -330
    },
    "id": "cofd774v1jFo",
    "outputId": "b2b167e6-ff95-4db5-c40e-45e17eec23b9"
   },
   "outputs": [
    {
     "name": "stdout",
     "output_type": "stream",
     "text": [
      "[['France' 0.7199314321591973 0.711012758872281]\n",
      " ['Spain' -1.6236751448696793 -1.3643758345927564]\n",
      " ['Germany' -1.2100975136292893 -0.845528686226497]\n",
      " ['Spain' -0.1072238303215827 -0.24020701313252774]\n",
      " ['Germany' 0.16849459050534396 nan]\n",
      " ['France' -0.5208014615619727 -0.4996305873156574]\n",
      " ['Spain' nan -1.0184777356819168]\n",
      " ['France' 1.2713682738130507 1.3163344319662502]\n",
      " ['Germany' 1.5470866946399773 1.6622325308770898]\n",
      " ['France' -0.24508304073504605 0.2786401352337316]]\n"
     ]
    }
   ],
   "source": [
    "from sklearn.preprocessing import StandardScaler\n",
    "sc = StandardScaler()\n",
    "X[:, 1:3] = sc.fit_transform(X[:, 1:3])\n",
    "print(X)\n",
    "\n"
   ]
  },
  {
   "cell_type": "code",
   "execution_count": null,
   "metadata": {
    "colab": {
     "base_uri": "https://localhost:8080/",
     "height": 67
    },
    "executionInfo": {
     "elapsed": 1134,
     "status": "ok",
     "timestamp": 1603420587850,
     "user": {
      "displayName": "ashwini shingare",
      "photoUrl": "https://lh3.googleusercontent.com/a-/AOh14GgNwQj4XEuSINAvOfIqlFogeh_sR0TCOfvXfPxK=s64",
      "userId": "08067957730134572102"
     },
     "user_tz": -330
    },
    "id": "UFeUhrh0TLww",
    "outputId": "c908486b-d3bf-497e-9226-3231d76489a5"
   },
   "outputs": [
    {
     "name": "stdout",
     "output_type": "stream",
     "text": [
      "10.053730642890661\n",
      "9.160358197932052\n",
      "4.383387826878054\n"
     ]
    }
   ],
   "source": [
    "x1=X[1,1:3] #row 2\n",
    "x2=X[8,1:3] # row 9\n",
    "Agediff=(x1[0]-x2[0])**2\n",
    "print(Agediff)\n",
    "Saldiff=(x1[1]-x2[1])**2\n",
    "print(Saldiff)\n",
    "e_dist=np.sqrt(Agediff+Saldiff)\n",
    "print(e_dist)"
   ]
  },
  {
   "cell_type": "markdown",
   "metadata": {
    "id": "b_ht4NWZ3Bbw"
   },
   "source": [
    "Max-Min Normalization (Min-Max scaling). re-scales features with a distribution value between 0 and 1.\n",
    "In contrast to standardisation, smaller standard deviations through the process of Max-Min Normalisation\n",
    "It implies the data are more concentrated around the mean"
   ]
  },
  {
   "cell_type": "markdown",
   "metadata": {
    "id": "nzgpGOYI3cpj"
   },
   "source": [
    "if you have outliers in your feature (column), normalizing your data will scale most of the data to a small interval, which means all features will have the same scale but does not handle outliers well. Standardisation is more robust to outliers, and in many cases, it is preferable over Max-Min Normalisation."
   ]
  },
  {
   "cell_type": "code",
   "execution_count": null,
   "metadata": {
    "colab": {
     "base_uri": "https://localhost:8080/",
     "height": 184
    },
    "executionInfo": {
     "elapsed": 1189,
     "status": "ok",
     "timestamp": 1603423331213,
     "user": {
      "displayName": "ashwini shingare",
      "photoUrl": "https://lh3.googleusercontent.com/a-/AOh14GgNwQj4XEuSINAvOfIqlFogeh_sR0TCOfvXfPxK=s64",
      "userId": "08067957730134572102"
     },
     "user_tz": -330
    },
    "id": "kqIlQsA33zHB",
    "outputId": "099b27ce-00cd-44c6-83cc-81ba3a0ad65c"
   },
   "outputs": [
    {
     "name": "stdout",
     "output_type": "stream",
     "text": [
      "[['France' 0.7391304347826089 0.6857142857142855]\n",
      " ['Spain' 0.0 0.0]\n",
      " ['Germany' 0.1304347826086958 0.17142857142857149]\n",
      " ['Spain' 0.4782608695652175 0.37142857142857144]\n",
      " ['Germany' 0.5652173913043479 nan]\n",
      " ['France' 0.34782608695652173 0.2857142857142856]\n",
      " ['Spain' nan 0.11428571428571432]\n",
      " ['France' 0.9130434782608696 0.8857142857142857]\n",
      " ['Germany' 1.0 1.0]\n",
      " ['France' 0.43478260869565233 0.5428571428571427]]\n"
     ]
    }
   ],
   "source": [
    "X = dataset.iloc[:, :-1].values\n",
    "from sklearn.preprocessing import MinMaxScaler\n",
    "scaler = MinMaxScaler()\n",
    "scaler.fit(X[:, 1:3])\n",
    "X[:, 1:3] =scaler.transform(X[:, 1:3])\n",
    "print(X)"
   ]
  }
 ],
 "metadata": {
  "colab": {
   "authorship_tag": "ABX9TyP0UID7oVuHugXE2f/a39Ta",
   "name": "DataPreP.ipynb",
   "provenance": [],
   "toc_visible": true
  },
  "kernelspec": {
   "display_name": "Python 3",
   "language": "python",
   "name": "python3"
  },
  "language_info": {
   "codemirror_mode": {
    "name": "ipython",
    "version": 3
   },
   "file_extension": ".py",
   "mimetype": "text/x-python",
   "name": "python",
   "nbconvert_exporter": "python",
   "pygments_lexer": "ipython3",
   "version": "3.9.2"
  }
 },
 "nbformat": 4,
 "nbformat_minor": 1
}
